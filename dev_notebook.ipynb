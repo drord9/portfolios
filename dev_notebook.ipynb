{
 "cells": [
  {
   "cell_type": "code",
   "execution_count": 1,
   "id": "4c083316-6e56-4617-b81e-e4a5d7d73c1d",
   "metadata": {},
   "outputs": [],
   "source": [
    "import pandas as pd\n",
    "import numpy as np\n",
    "import matplotlib.pyplot as plt"
   ]
  },
  {
   "cell_type": "code",
   "execution_count": 2,
   "id": "32075dc4-2dde-4e9d-b30a-8d37109d5860",
   "metadata": {},
   "outputs": [
    {
     "name": "stdout",
     "output_type": "stream",
     "text": [
      "count       0.0\n",
      "mean        0.0\n",
      "std      maxShp\n",
      "min      market\n",
      "25%      market\n",
      "50%         0.0\n",
      "75%      market\n",
      "max      maxShp\n",
      "dtype: object\n",
      "max mean: 0.07134759177963036 0.0\n",
      "max 50%: 0.10359434270768396 0.0\n"
     ]
    }
   ],
   "source": [
    "results = pd.read_pickle('../results_min_var.pkl')\n",
    "ind_max = results.describe().idxmax(axis=1)\n",
    "print(ind_max)\n",
    "print(\"max mean:\", results.describe().loc['mean'][ind_max['mean']], ind_max['mean'])\n",
    "print(\"max 50%:\", results.describe().loc['50%'][ind_max['50%']], ind_max['50%'])"
   ]
  },
  {
   "cell_type": "code",
   "execution_count": 4,
   "id": "0f45c70f-d1b0-428e-90c6-07f1a52f0ecc",
   "metadata": {},
   "outputs": [
    {
     "name": "stdout",
     "output_type": "stream",
     "text": [
      "count       0.0\n",
      "mean        0.4\n",
      "std         0.4\n",
      "min      market\n",
      "25%         1.0\n",
      "50%      minVar\n",
      "75%         0.8\n",
      "max         0.1\n",
      "dtype: object\n",
      "max mean: 0.07340607901369704 0.4\n",
      "max 50%: 0.10310814796265454 minVar\n"
     ]
    }
   ],
   "source": [
    "results = pd.read_pickle('../results_max_sharp.pkl')\n",
    "ind_max = results.describe().idxmax(axis=1)\n",
    "print(ind_max)\n",
    "print(\"max mean:\", results.describe().loc['mean'][ind_max['mean']], ind_max['mean'])\n",
    "print(\"max 50%:\", results.describe().loc['50%'][ind_max['50%']], ind_max['50%'])"
   ]
  },
  {
   "cell_type": "code",
   "execution_count": null,
   "id": "508a2a1a-3a1e-49ac-9348-a6343ddea966",
   "metadata": {},
   "outputs": [],
   "source": [
    "fig = plt.figure(figsize=(20,10))\n",
    "plt.plot(results, label=results.columns)\n",
    "plt.legend(loc=\"best\")\n",
    "plt.show()"
   ]
  },
  {
   "cell_type": "code",
   "execution_count": null,
   "id": "ed24f4b8-6e41-4e13-8eb3-6feabc8b084f",
   "metadata": {},
   "outputs": [],
   "source": [
    "for columnName in results:\n",
    "    if columnName ==  'minVar' or columnName == 'market' or columnName == 'maxShp':\n",
    "        continue\n",
    "    plt.plot(results[columnName], label=columnName)\n",
    "    plt.plot(results['minVar'], label='minVar')\n",
    "    plt.plot(results['market'], label='market')\n",
    "    plt.legend(loc=\"best\")\n",
    "    plt.suptitle(columnName)\n",
    "    plt.show()\n"
   ]
  },
  {
   "cell_type": "code",
   "execution_count": null,
   "id": "ff9a1224-59cf-4004-ba42-f4720770d67e",
   "metadata": {},
   "outputs": [],
   "source": [
    "for columnName in results:\n",
    "   \n",
    "    minVar_dist = results[columnName] - results['minVar']\n",
    "    market_dist = results[columnName] - results['market']\n",
    "\n",
    "    plt.plot(minVar_dist, label='minVar_dist')\n",
    "    plt.plot(market_dist, label='market_dist')\n",
    "    plt.legend(loc=\"best\")\n",
    "    plt.suptitle(columnName)\n",
    "    plt.show()\n",
    "    \n",
    "    print(\"minVar_dist:\")\n",
    "    print(minVar_dist.describe())\n",
    "    print()\n",
    "    print(\"market_dist:\")\n",
    "    print(market_dist.describe())"
   ]
  },
  {
   "cell_type": "code",
   "execution_count": null,
   "id": "67dd647b-951b-481f-99c8-4d05f2e8c134",
   "metadata": {},
   "outputs": [],
   "source": [
    "[i for i in np.arange(0,1.1,0.1)]"
   ]
  },
  {
   "cell_type": "code",
   "execution_count": null,
   "id": "d46524b5-b416-44ef-909d-ff816af7bc12",
   "metadata": {},
   "outputs": [],
   "source": [
    "results"
   ]
  },
  {
   "cell_type": "code",
   "execution_count": null,
   "id": "f4051b42-9f32-448f-b3cb-d779cd96222d",
   "metadata": {},
   "outputs": [],
   "source": []
  },
  {
   "cell_type": "code",
   "execution_count": null,
   "id": "25137ea5-5088-49be-a047-1b3aa6d39fa6",
   "metadata": {},
   "outputs": [],
   "source": []
  },
  {
   "cell_type": "code",
   "execution_count": null,
   "id": "21231110-8654-4702-8aed-d715a75cac6a",
   "metadata": {},
   "outputs": [],
   "source": []
  },
  {
   "cell_type": "code",
   "execution_count": null,
   "id": "c9ef3115-ac2e-431a-89de-cea0816b64c7",
   "metadata": {},
   "outputs": [],
   "source": []
  },
  {
   "cell_type": "code",
   "execution_count": null,
   "id": "467093c9-7fff-4587-8a33-9c2c1b894132",
   "metadata": {},
   "outputs": [],
   "source": []
  },
  {
   "cell_type": "code",
   "execution_count": null,
   "id": "34218599-9e00-4422-a8cf-005a9de89d66",
   "metadata": {},
   "outputs": [],
   "source": []
  },
  {
   "cell_type": "code",
   "execution_count": null,
   "id": "84a306f9-84a5-475c-88d6-2bce03c6b191",
   "metadata": {},
   "outputs": [],
   "source": []
  },
  {
   "cell_type": "code",
   "execution_count": null,
   "id": "b75fff60-c8a6-4fac-beec-3758d1c5b2c9",
   "metadata": {},
   "outputs": [],
   "source": []
  },
  {
   "cell_type": "code",
   "execution_count": null,
   "id": "8a446289-dc7f-4d28-a4fd-c1c1e1e5082e",
   "metadata": {},
   "outputs": [],
   "source": []
  },
  {
   "cell_type": "code",
   "execution_count": null,
   "id": "8e3bbe96-70c9-4b8d-862d-b32c70b38fa2",
   "metadata": {},
   "outputs": [],
   "source": []
  },
  {
   "cell_type": "code",
   "execution_count": null,
   "id": "60e194ee-601d-467d-adf8-383830338553",
   "metadata": {},
   "outputs": [],
   "source": []
  },
  {
   "cell_type": "code",
   "execution_count": null,
   "id": "bbba78c0-3e7e-4792-bd72-eefa413d5f44",
   "metadata": {},
   "outputs": [],
   "source": []
  },
  {
   "cell_type": "code",
   "execution_count": null,
   "id": "ecf8f423-ac6d-47a1-952c-7630ed76984c",
   "metadata": {},
   "outputs": [],
   "source": []
  }
 ],
 "metadata": {
  "kernelspec": {
   "display_name": "Python 3",
   "language": "python",
   "name": "python3"
  },
  "language_info": {
   "codemirror_mode": {
    "name": "ipython",
    "version": 3
   },
   "file_extension": ".py",
   "mimetype": "text/x-python",
   "name": "python",
   "nbconvert_exporter": "python",
   "pygments_lexer": "ipython3",
   "version": "3.9.12"
  }
 },
 "nbformat": 4,
 "nbformat_minor": 5
}
