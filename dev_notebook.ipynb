{
 "cells": [
  {
   "cell_type": "code",
   "execution_count": null,
   "id": "4c083316-6e56-4617-b81e-e4a5d7d73c1d",
   "metadata": {},
   "outputs": [],
   "source": [
    "import pandas as pd\n",
    "import numpy as np\n",
    "import matplotlib.pyplot as plt"
   ]
  },
  {
   "cell_type": "code",
   "execution_count": null,
   "id": "0f45c70f-d1b0-428e-90c6-07f1a52f0ecc",
   "metadata": {},
   "outputs": [],
   "source": [
    "results = pd.read_pickle('results_pamr_train_sharp_tau.pkl')\n",
    "ind_max = results.describe().idxmax(axis=1)\n",
    "ind_min = results.describe().idxmin(axis=1)\n",
    "print(ind_max)\n",
    "print(\"max mean:\", results.describe().loc['mean'][ind_max['mean']], ind_max['mean'])\n",
    "print(\"max 50%:\", results.describe().loc['50%'][ind_max['50%']], ind_max['50%'])\n",
    "print(\"max std:\", results.describe().loc['std'][ind_max['std']], ind_max['std'])\n",
    "print(\"min std:\", results.describe().loc['std'][ind_min['std']], ind_min['std'])"
   ]
  },
  {
   "cell_type": "code",
   "execution_count": null,
   "id": "508a2a1a-3a1e-49ac-9348-a6343ddea966",
   "metadata": {},
   "outputs": [],
   "source": [
    "fig = plt.figure(figsize=(20,10))\n",
    "plt.plot(results, label=results.columns)\n",
    "plt.legend(loc=\"best\")\n",
    "plt.show()"
   ]
  },
  {
   "cell_type": "code",
   "execution_count": null,
   "id": "ed24f4b8-6e41-4e13-8eb3-6feabc8b084f",
   "metadata": {},
   "outputs": [],
   "source": [
    "for columnName in results:\n",
    "    if columnName ==  'minVar' or columnName == 'market' or columnName == 'maxShp':\n",
    "        continue\n",
    "    plt.plot(results[columnName], label=columnName)\n",
    "    plt.plot(results['minVar'], label='minVar')\n",
    "    plt.plot(results['market'], label='market')\n",
    "    plt.legend(loc=\"best\")\n",
    "    plt.suptitle(columnName)\n",
    "    plt.show()\n"
   ]
  },
  {
   "cell_type": "code",
   "execution_count": null,
   "id": "ff9a1224-59cf-4004-ba42-f4720770d67e",
   "metadata": {},
   "outputs": [],
   "source": [
    "for columnName in results:\n",
    "   \n",
    "    minVar_dist = results[columnName] - results['minVar']\n",
    "    market_dist = results[columnName] - results['market']\n",
    "    maxShp_dist = results[columnName] - results['maxShp']\n",
    "\n",
    "    plt.plot(minVar_dist, label='minVar_dist')\n",
    "    plt.plot(market_dist, label='market_dist')\n",
    "    plt.plot(maxShp_dist, label='maxShp_dist')\n",
    "    plt.legend(loc=\"best\")\n",
    "    plt.suptitle(columnName)\n",
    "    plt.show()\n",
    "    \n",
    "    print(\"minVar_dist:\")\n",
    "    print(minVar_dist.describe())\n",
    "    print()\n",
    "    print(\"market_dist:\")\n",
    "    print(market_dist.describe())\n",
    "    print()\n",
    "    print(\"maxShp_dist:\")\n",
    "    print(maxShp_dist.describe())"
   ]
  },
  {
   "cell_type": "code",
   "execution_count": null,
   "id": "ecf8f423-ac6d-47a1-952c-7630ed76984c",
   "metadata": {},
   "outputs": [],
   "source": [
    "((0, 1),) * 5"
   ]
  },
  {
   "cell_type": "code",
   "execution_count": null,
   "id": "d7276559-8efb-4f21-ad5d-bd43b55e06d4",
   "metadata": {},
   "outputs": [],
   "source": []
  }
 ],
 "metadata": {
  "kernelspec": {
   "display_name": "Python 3",
   "language": "python",
   "name": "python3"
  },
  "language_info": {
   "codemirror_mode": {
    "name": "ipython",
    "version": 3
   },
   "file_extension": ".py",
   "mimetype": "text/x-python",
   "name": "python",
   "nbconvert_exporter": "python",
   "pygments_lexer": "ipython3",
   "version": "3.9.12"
  }
 },
 "nbformat": 4,
 "nbformat_minor": 5
}
