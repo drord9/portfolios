{
 "cells": [
  {
   "cell_type": "code",
   "execution_count": null,
   "id": "8ee249b9-0cd7-492d-948f-e7ca87e84634",
   "metadata": {},
   "outputs": [],
   "source": [
    "import pandas as pd\n",
    "import numpy as np\n",
    "import yfinance as yf\n",
    "from portfolio import Portfolio"
   ]
  },
  {
   "cell_type": "code",
   "execution_count": null,
   "id": "04f54302-de63-4211-9e4d-2882ff37ce60",
   "metadata": {},
   "outputs": [],
   "source": [
    "START_DATE = '2017-08-01'\n",
    "END_TRAIN_DATE = '2022-06-30'"
   ]
  },
  {
   "cell_type": "code",
   "execution_count": null,
   "id": "54bd43d2-ca41-414c-bd42-48c5a047d46c",
   "metadata": {},
   "outputs": [],
   "source": [
    "def get_data():\n",
    "    wiki_table = pd.read_html('https://en.wikipedia.org/wiki/List_of_S%26P_500_companies')\n",
    "    sp_tickers = wiki_table[0]\n",
    "    tickers = [ticker.replace('.', '-') for ticker in sp_tickers['Symbol'].to_list()]\n",
    "    data = yf.download(tickers, START_DATE, END_TRAIN_DATE)\n",
    "    return data"
   ]
  },
  {
   "cell_type": "code",
   "execution_count": null,
   "id": "169a7f7e-289d-46c1-8f79-eb51a629cc34",
   "metadata": {},
   "outputs": [],
   "source": [
    "strategy = Portfolio()\n",
    "x = strategy.train(get_data())"
   ]
  }
 ],
 "metadata": {
  "kernelspec": {
   "display_name": "Python 3",
   "language": "python",
   "name": "python3"
  },
  "language_info": {
   "codemirror_mode": {
    "name": "ipython",
    "version": 3
   },
   "file_extension": ".py",
   "mimetype": "text/x-python",
   "name": "python",
   "nbconvert_exporter": "python",
   "pygments_lexer": "ipython3",
   "version": "3.9.12"
  }
 },
 "nbformat": 4,
 "nbformat_minor": 5
}
