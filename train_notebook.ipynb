{
 "cells": [
  {
   "cell_type": "code",
   "execution_count": 1,
   "id": "8ee249b9-0cd7-492d-948f-e7ca87e84634",
   "metadata": {},
   "outputs": [],
   "source": [
    "from main4dev import main\n",
    "import pandas as pd\n",
    "import numpy as np"
   ]
  },
  {
   "cell_type": "code",
   "execution_count": null,
   "id": "b70fbe80-5128-4ac6-8a78-76946b36d051",
   "metadata": {},
   "outputs": [
    {
     "name": "stdout",
     "output_type": "stream",
     "text": [
      "loading data.pkl....\n",
      "tau =  0.0\n",
      "2020-12-31\n",
      "2021-01-31\n",
      "2021-02-28\n",
      "2021-03-31\n",
      "2021-04-30\n"
     ]
    }
   ],
   "source": [
    "results = main()\n",
    "results.to_pickle('../results_max_sharp_normed.pkl')"
   ]
  },
  {
   "cell_type": "code",
   "execution_count": null,
   "id": "387f9880-b9b3-40ae-9830-9717346a5671",
   "metadata": {},
   "outputs": [],
   "source": [
    "a = np.array([0.2,0.3,0.5])\n",
    "print(a.sum())\n",
    "b = np.array([0.1,0.5,0.4])\n",
    "print(b.sum())\n",
    "c = np.multiply(a,b)\n",
    "c = c / c.sum()\n",
    "print(c, c.sum())"
   ]
  },
  {
   "cell_type": "code",
   "execution_count": null,
   "id": "5aae0264-224b-473d-9236-b4e2030913de",
   "metadata": {},
   "outputs": [],
   "source": []
  }
 ],
 "metadata": {
  "kernelspec": {
   "display_name": "Python 3",
   "language": "python",
   "name": "python3"
  },
  "language_info": {
   "codemirror_mode": {
    "name": "ipython",
    "version": 3
   },
   "file_extension": ".py",
   "mimetype": "text/x-python",
   "name": "python",
   "nbconvert_exporter": "python",
   "pygments_lexer": "ipython3",
   "version": "3.9.12"
  }
 },
 "nbformat": 4,
 "nbformat_minor": 5
}
